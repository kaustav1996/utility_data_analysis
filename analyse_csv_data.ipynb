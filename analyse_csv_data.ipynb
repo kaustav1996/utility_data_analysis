{
  "nbformat": 4,
  "nbformat_minor": 0,
  "metadata": {
    "colab": {
      "name": "Untitled3.ipynb",
      "version": "0.3.2",
      "provenance": [],
      "include_colab_link": true
    },
    "kernelspec": {
      "name": "python3",
      "display_name": "Python 3"
    }
  },
  "cells": [
    {
      "cell_type": "markdown",
      "metadata": {
        "id": "view-in-github",
        "colab_type": "text"
      },
      "source": [
        "<a href=\"https://colab.research.google.com/github/kaustav1996/utility_data_analysis/blob/master/analyse_csv_data.ipynb\" target=\"_parent\"><img src=\"https://colab.research.google.com/assets/colab-badge.svg\" alt=\"Open In Colab\"/></a>"
      ]
    },
    {
      "cell_type": "code",
      "metadata": {
        "id": "XYwKoS7SIIbF",
        "colab_type": "code",
        "colab": {
          "base_uri": "https://localhost:8080/",
          "height": 102
        },
        "outputId": "f1fdd23b-2068-4666-9110-44c991ac1112"
      },
      "source": [
        "# import dependencies\n",
        "\n",
        "import os\n",
        "import csv\n",
        "import pandas as pd\n",
        "import matplotlib.pyplot as plt"
      ],
      "execution_count": 2,
      "outputs": [
        {
          "output_type": "stream",
          "text": [
            "/content\n",
            "fatal: destination path 'utility_data_analysis' already exists and is not an empty directory.\n",
            "/content/utility_data_analysis\n",
            "Already up to date.\n",
            "interval_data.csv  LICENSE  README.md\n"
          ],
          "name": "stdout"
        }
      ]
    },
    {
      "cell_type": "markdown",
      "metadata": {
        "id": "UwI3Cio7IAG5",
        "colab_type": "text"
      },
      "source": [
        "Load data from git repository :"
      ]
    },
    {
      "cell_type": "code",
      "metadata": {
        "id": "hq_AlsZHJCPc",
        "colab_type": "code",
        "colab": {}
      },
      "source": [
        "repo_url = 'https://github.com/kaustav1996/utility_data_analysis'\n",
        "\n",
        "%cd /content\n",
        "\n",
        "repo_dir_path = os.path.abspath(os.path.join('.', os.path.basename(repo_url)))\n",
        "\n",
        "!git clone {repo_url}\n",
        "%cd {repo_dir_path}\n",
        "!git pull\n",
        "\n",
        "%ls"
      ],
      "execution_count": 0,
      "outputs": []
    },
    {
      "cell_type": "markdown",
      "metadata": {
        "id": "7aCOhb60IlKF",
        "colab_type": "text"
      },
      "source": [
        "Load data from CSV."
      ]
    },
    {
      "cell_type": "code",
      "metadata": {
        "id": "icgzmqc2JsVl",
        "colab_type": "code",
        "colab": {}
      },
      "source": [
        ""
      ],
      "execution_count": 0,
      "outputs": []
    }
  ]
}