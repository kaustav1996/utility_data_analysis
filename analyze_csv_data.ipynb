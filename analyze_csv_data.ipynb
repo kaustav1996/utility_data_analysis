{
  "nbformat": 4,
  "nbformat_minor": 0,
  "metadata": {
    "colab": {
      "name": "Untitled3.ipynb",
      "version": "0.3.2",
      "provenance": [],
      "include_colab_link": true
    },
    "kernelspec": {
      "name": "python3",
      "display_name": "Python 3"
    }
  },
  "cells": [
    {
      "cell_type": "markdown",
      "metadata": {
        "id": "view-in-github",
        "colab_type": "text"
      },
      "source": [
        "<a href=\"https://colab.research.google.com/github/kaustav1996/utility_data_analysis/blob/master/analyze_csv_data.ipynb\" target=\"_parent\"><img src=\"https://colab.research.google.com/assets/colab-badge.svg\" alt=\"Open In Colab\"/></a>"
      ]
    },
    {
      "cell_type": "code",
      "metadata": {
        "id": "XYwKoS7SIIbF",
        "colab_type": "code",
        "colab": {}
      },
      "source": [
        "# import dependencies\n",
        "\n",
        "import os\n",
        "import csv\n",
        "import pandas as pd\n",
        "import matplotlib.pyplot as plt\n",
        "from sklearn.model_selection import train_test_split\n",
        "from sklearn.linear_model import LinearRegression\n"
      ],
      "execution_count": 0,
      "outputs": []
    },
    {
      "cell_type": "markdown",
      "metadata": {
        "id": "UwI3Cio7IAG5",
        "colab_type": "text"
      },
      "source": [
        "Load data from git repository :"
      ]
    },
    {
      "cell_type": "code",
      "metadata": {
        "id": "hq_AlsZHJCPc",
        "colab_type": "code",
        "colab": {
          "base_uri": "https://localhost:8080/",
          "height": 272
        },
        "outputId": "8549d5d1-8ab9-4670-b21e-d0f6346298d3"
      },
      "source": [
        "repo_url = 'https://github.com/kaustav1996/utility_data_analysis'\n",
        "\n",
        "%cd /content\n",
        "\n",
        "repo_dir_path = os.path.abspath(os.path.join('.', os.path.basename(repo_url)))\n",
        "\n",
        "!git clone {repo_url}\n",
        "%cd {repo_dir_path}\n",
        "!git pull\n",
        "\n",
        "%ls\n",
        "\n",
        "csv_file= os.path.abspath(os.path.join(repo_dir_path,'interval_data.csv'))\n"
      ],
      "execution_count": 62,
      "outputs": [
        {
          "output_type": "stream",
          "text": [
            "/content\n",
            "fatal: destination path 'utility_data_analysis' already exists and is not an empty directory.\n",
            "/content/utility_data_analysis\n",
            "remote: Enumerating objects: 5, done.\u001b[K\n",
            "remote: Counting objects: 100% (5/5), done.\u001b[K\n",
            "remote: Compressing objects: 100% (3/3), done.\u001b[K\n",
            "remote: Total 3 (delta 1), reused 0 (delta 0), pack-reused 0\u001b[K\n",
            "Unpacking objects: 100% (3/3), done.\n",
            "From https://github.com/kaustav1996/utility_data_analysis\n",
            "   569167e..4948256  master     -> origin/master\n",
            "Updating 569167e..4948256\n",
            "Fast-forward\n",
            " interval_data.csv | 32730 \u001b[32m++++++++++++++++++++++++++\u001b[m\u001b[31m--------------------------\u001b[m\n",
            " 1 file changed, 16365 insertions(+), 16365 deletions(-)\n",
            "analyse_csv_data.ipynb  interval_data.csv  LICENSE  README.md\n"
          ],
          "name": "stdout"
        }
      ]
    },
    {
      "cell_type": "markdown",
      "metadata": {
        "id": "7aCOhb60IlKF",
        "colab_type": "text"
      },
      "source": [
        "Load data from CSV."
      ]
    },
    {
      "cell_type": "code",
      "metadata": {
        "id": "fldqMIGCtwfT",
        "colab_type": "code",
        "colab": {
          "base_uri": "https://localhost:8080/",
          "height": 340
        },
        "outputId": "b050cc3d-8bd0-4511-e7e5-cbce69db241e"
      },
      "source": [
        "dateparse = lambda dates: pd.datetime.strptime(dates, '%m/%d/%Y %H:%M')\n",
        "data = pd.read_csv(csv_file, parse_dates=['TIME'], index_col='TIME',date_parser=dateparse)\n",
        "print ( data.head())\n",
        "data.index"
      ],
      "execution_count": 78,
      "outputs": [
        {
          "output_type": "stream",
          "text": [
            "                       KW\n",
            "TIME                     \n",
            "2018-08-29 00:15:00  0.64\n",
            "2018-08-29 00:30:00  0.74\n",
            "2018-08-29 00:45:00  1.10\n",
            "2018-08-29 01:00:00  0.92\n",
            "2018-08-29 01:15:00  0.92\n"
          ],
          "name": "stdout"
        },
        {
          "output_type": "execute_result",
          "data": {
            "text/plain": [
              "DatetimeIndex(['2018-08-29 00:15:00', '2018-08-29 00:30:00',\n",
              "               '2018-08-29 00:45:00', '2018-08-29 01:00:00',\n",
              "               '2018-08-29 01:15:00', '2018-08-29 01:30:00',\n",
              "               '2018-08-29 01:45:00', '2018-08-29 02:00:00',\n",
              "               '2018-08-29 02:15:00', '2018-08-29 02:30:00',\n",
              "               ...\n",
              "               '2019-05-29 19:45:00', '2019-05-29 20:00:00',\n",
              "               '2019-05-29 20:15:00', '2019-05-29 20:30:00',\n",
              "               '2019-05-29 20:45:00', '2019-05-29 21:00:00',\n",
              "               '2019-05-29 21:15:00', '2019-05-29 21:30:00',\n",
              "               '2019-05-29 21:45:00', '2019-05-29 22:00:00'],\n",
              "              dtype='datetime64[ns]', name='TIME', length=16400, freq=None)"
            ]
          },
          "metadata": {
            "tags": []
          },
          "execution_count": 78
        }
      ]
    },
    {
      "cell_type": "code",
      "metadata": {
        "id": "aq1eLImbuxUs",
        "colab_type": "code",
        "colab": {
          "base_uri": "https://localhost:8080/",
          "height": 867
        },
        "outputId": "b8bb4291-abc8-4ab6-dcf5-57ddf2761a41"
      },
      "source": [
        "ts = data['KW'] \n",
        "ts['2019-01-01']"
      ],
      "execution_count": 110,
      "outputs": [
        {
          "output_type": "execute_result",
          "data": {
            "text/plain": [
              "TIME\n",
              "2019-01-01 01:30:00    0.86\n",
              "2019-01-01 00:15:00    1.72\n",
              "2019-01-01 00:30:00    3.43\n",
              "2019-01-01 00:45:00    1.72\n",
              "2019-01-01 01:00:00    3.43\n",
              "2019-01-01 01:15:00    3.00\n",
              "2019-01-01 01:45:00    1.29\n",
              "2019-01-01 02:00:00    2.15\n",
              "2019-01-01 05:00:00    2.58\n",
              "2019-01-01 04:15:00    2.15\n",
              "2019-01-01 04:30:00    1.72\n",
              "2019-01-01 04:45:00    0.43\n",
              "2019-01-01 05:15:00    3.00\n",
              "2019-01-01 05:30:00    1.29\n",
              "2019-01-01 05:45:00    2.15\n",
              "2019-01-01 06:00:00    3.00\n",
              "2019-01-01 07:00:00    2.15\n",
              "2019-01-01 06:15:00    1.72\n",
              "2019-01-01 06:30:00    1.29\n",
              "2019-01-01 06:45:00    1.29\n",
              "2019-01-01 07:15:00    0.43\n",
              "2019-01-01 07:30:00    2.15\n",
              "2019-01-01 07:45:00    2.58\n",
              "2019-01-01 08:00:00    0.86\n",
              "2019-01-01 10:15:00    3.00\n",
              "2019-01-01 10:30:00    2.58\n",
              "2019-01-01 10:45:00    2.58\n",
              "2019-01-01 11:00:00    0.43\n",
              "2019-01-01 11:15:00    0.43\n",
              "2019-01-01 11:30:00    3.43\n",
              "2019-01-01 11:45:00    2.15\n",
              "2019-01-01 12:00:00    1.29\n",
              "2019-01-01 18:15:00    2.15\n",
              "2019-01-01 18:30:00    3.00\n",
              "2019-01-01 18:45:00    3.00\n",
              "2019-01-01 19:45:00    2.15\n",
              "2019-01-01 19:00:00    2.58\n",
              "2019-01-01 19:15:00    2.58\n",
              "2019-01-01 19:30:00    2.58\n",
              "2019-01-01 20:00:00    2.15\n",
              "2019-01-01 21:00:00    1.29\n",
              "2019-01-01 20:15:00    0.86\n",
              "2019-01-01 20:30:00    3.86\n",
              "2019-01-01 20:45:00    3.00\n",
              "2019-01-01 21:15:00    2.15\n",
              "2019-01-01 21:30:00    1.72\n",
              "2019-01-01 21:45:00    2.15\n",
              "2019-01-01 22:00:00    2.58\n",
              "Name: KW, dtype: float64"
            ]
          },
          "metadata": {
            "tags": []
          },
          "execution_count": 110
        }
      ]
    },
    {
      "cell_type": "code",
      "metadata": {
        "id": "yAF5NvUDu9k6",
        "colab_type": "code",
        "colab": {
          "base_uri": "https://localhost:8080/",
          "height": 286
        },
        "outputId": "9cd9d299-4783-4756-a734-93954e7e48fb"
      },
      "source": [
        "plt.plot(ts['2019-01-01'])"
      ],
      "execution_count": 109,
      "outputs": [
        {
          "output_type": "execute_result",
          "data": {
            "text/plain": [
              "[<matplotlib.lines.Line2D at 0x7fa347575400>]"
            ]
          },
          "metadata": {
            "tags": []
          },
          "execution_count": 109
        },
        {
          "output_type": "display_data",
          "data": {
            "image/png": "[encoded data removed]",
            "text/plain": [
              "<Figure size 432x288 with 1 Axes>"
            ]
          },
          "metadata": {
            "tags": []
          }
        }
      ]
    },
    {
      "cell_type": "code",
      "metadata": {
        "id": "Onqfv7AuwsdK",
        "colab_type": "code",
        "colab": {}
      },
      "source": [
        ""
      ],
      "execution_count": 0,
      "outputs": []
    }
  ]
}